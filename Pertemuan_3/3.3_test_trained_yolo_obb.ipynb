{
 "cells": [
  {
   "cell_type": "markdown",
   "metadata": {},
   "source": [
    "## 3.3 Test Trained Yolo OBB"
   ]
  },
  {
   "cell_type": "markdown",
   "metadata": {},
   "source": [
    "- Move downlaoded `yolov8-obb-custom.pt` into folder `Pertemuan_3/`,<br><br>\n",
    "<img src=\"resource/paste-model.png\" width=\"500px\" style=\"background:white;padding:5px\">"
   ]
  },
  {
   "cell_type": "code",
   "execution_count": null,
   "metadata": {},
   "outputs": [],
   "source": [
    "from ultralytics import YOLO\n",
    "import cv2\n",
    "import numpy as np\n",
    "import matplotlib.pyplot as plt\n",
    "\n",
    "print(\"OpenCV version: \" + cv2.__version__)"
   ]
  },
  {
   "cell_type": "markdown",
   "metadata": {},
   "source": [
    "#### EXAMPLE 1 - Using Ultralytics Yolo OBB Model to detect Object Orientation"
   ]
  },
  {
   "cell_type": "code",
   "execution_count": null,
   "metadata": {},
   "outputs": [],
   "source": [
    "# Load a model\n",
    "model = YOLO(\"yolov8-obb-custom.pt\")  # load an official model"
   ]
  },
  {
   "cell_type": "code",
   "execution_count": null,
   "metadata": {},
   "outputs": [],
   "source": [
    "# load image\n",
    "image_path = \"scissors.png\"\n",
    "image = cv2.imread(image_path)\n",
    "\n",
    "# Predict with the model\n",
    "results = model(image_path)  # predict on an image"
   ]
  },
  {
   "cell_type": "code",
   "execution_count": null,
   "metadata": {},
   "outputs": [],
   "source": [
    "results[0].show()  # display the image"
   ]
  },
  {
   "cell_type": "code",
   "execution_count": null,
   "metadata": {},
   "outputs": [],
   "source": [
    "# Draw bounding boxes and orientations\n",
    "output = image.copy()\n",
    "for result in results[0]:\n",
    "\n",
    "    xywhr = result.obb.xywhr.cpu().numpy().squeeze()  # Extract [center-x, center-y, width, height, angle] from the result\n",
    "    \n",
    "    center = tuple(xywhr[:2].astype(int))  # Extract center (x, y)\n",
    "\n",
    "    # Extract rotation angle in radians, \n",
    "    # considering the object is taller than it is wide, \n",
    "    # otherwise, we need to add np.pi to the angle\n",
    "    if(xywhr[2] < xywhr[3] ):\n",
    "        angle_rad = xywhr[4] \n",
    "    else:\n",
    "        angle_rad = np.pi - xywhr[4] # flip the angle\n",
    "    \n",
    "\n",
    "    # Define the length of the orientation lines\n",
    "    length = 250 \n",
    "\n",
    "    # Draw original horizontal reference line (black)\n",
    "    cv2.line(output, center, (center[0] + length, center[1]), (0, 0, 0), 3)\n",
    "    \n",
    "    # Compute and draw rotation axis (red line)\n",
    "    end_x = int(center[0] + length * np.cos(angle_rad))\n",
    "    end_y = int(center[1] - length * np.sin(angle_rad))\n",
    "    cv2.line(output, center, (end_x, end_y), (0, 0, 255), 3)\n",
    "    \n",
    "    # Draw angle text\n",
    "    angle = np.rad2deg(angle_rad)\n",
    "    text_position = (center[0] - 7, center[1] - 7)\n",
    "    cv2.putText(output, f\"{int(angle)}\", text_position, cv2.FONT_HERSHEY_SIMPLEX, \n",
    "                1.5, (0, 0, 0), 2, cv2.LINE_AA)\n",
    "\n",
    "# Show results using Matplotlib\n",
    "plt.figure(figsize=(20, 15))\n",
    "plt.imshow(output[:, :, ::-1])  # Convert BGR to RGB\n",
    "plt.axis(\"off\")\n",
    "plt.title(\"Object Orientation with Reference Line\")\n",
    "plt.show()\n"
   ]
  },
  {
   "cell_type": "markdown",
   "metadata": {},
   "source": [
    "- **Pros ✅**\n",
    "    - ✔ **Robust to Noise & Partial Occlusion** – Learns object features beyond shape.  \n",
    "    - ✔ **Works with Any Object Type** – Can detect orientation even for irregular shapes.  \n",
    "    - ✔ **Combines Object Detection & Orientation** – Provides classification along with orientation.  \n",
    "    - ✔ **Performs Well in Real-World Scenarios** – Ideal for aerial images, robotics, and autonomous systems.  \n",
    "\n",
    "- **Cons ❌**\n",
    "    - ✖ **Requires Training Data & Annotations** – Needs a labeled dataset with object orientations.  \n",
    "    - ✖ **Computationally Expensive** – Requires a GPU for real-time inference.  "
   ]
  },
  {
   "cell_type": "markdown",
   "metadata": {},
   "source": [
    "# Source : \n",
    "\n",
    "- https://docs.ultralytics.com/tasks/obb/"
   ]
  }
 ],
 "metadata": {
  "kernelspec": {
   "display_name": "BelajarOpenCV",
   "language": "python",
   "name": "python3"
  },
  "language_info": {
   "codemirror_mode": {
    "name": "ipython",
    "version": 3
   },
   "file_extension": ".py",
   "mimetype": "text/x-python",
   "name": "python",
   "nbconvert_exporter": "python",
   "pygments_lexer": "ipython3",
   "version": "3.8.20"
  }
 },
 "nbformat": 4,
 "nbformat_minor": 2
}
