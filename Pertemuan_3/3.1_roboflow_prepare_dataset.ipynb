{
 "cells": [
  {
   "cell_type": "markdown",
   "metadata": {},
   "source": [
    "## 3.1 Prepare Custom Dataset for YOLO OBB in Roboflow"
   ]
  },
  {
   "cell_type": "markdown",
   "metadata": {},
   "source": [
    "#### 3.1.1 Dataset Annotation\n",
    "- A <font color=\"orange\">dataset</font> is a collection of data that we need for the <font color=\"orange\">model training process</font>.\n",
    "- In object detection using YOLO, the <font color=\"orange\">dataset</font> consists of a <font color=\"orange\">collection of images categorized into different classes</font>.\n",
    "- Each class of data shares similar features.\n",
    "- For example, if there is a data class called \"cat\", then the images associated with that class belong to the cat class.<br>\n",
    "<img src=\"resource/training-inferencing.jpg\" width=\"600px\">"
   ]
  },
  {
   "cell_type": "markdown",
   "metadata": {},
   "source": [
    "- One of the datasets used as the base model for YOLO is the <font color=\"orange\">COCO Dataset</font> (https://cocodataset.org/#explore).<br>\n",
    "<img src=\"resource/coco-examples.jpg\" width=\"700px\">"
   ]
  },
  {
   "cell_type": "markdown",
   "metadata": {},
   "source": [
    "- We can use our own images as a dataset to train a **YOLO model**.  \n",
    "- This technique is called <font color=\"orange\">Transfer Learning</font> because we \"transfer\" the knowledge from the <font color=\"orange\">YOLO base model</font> (trained on the COCO dataset) to a <font color=\"orange\">custom dataset</font> (our own images).  \n",
    "- However, our dataset **cannot** be used directly in YOLO training frameworks like <font color=\"orange\">Darknet</font> or <font color=\"orange\">PyTorch</font>.  \n",
    "- We first need to <font color=\"orange\">annotate</font> each image by labeling objects and drawing <font color=\"orange\">bounding boxes</font>.  \n",
    "- There are many tools for annotation, but for now, we’ll use <font color=\"orange\">Roboflow</font>.  \n"
   ]
  },
  {
   "cell_type": "markdown",
   "metadata": {},
   "source": [
    "### 3.1.2 Create Roboflow Account\n",
    "\n",
    "- Open the following link in your browser: [https://app.roboflow.com/](https://app.roboflow.com/)  \n",
    "  <br>\n",
    "  <img src=\"resource/rb-login.png\" width=\"500px\">\n",
    "\n",
    "- Choose to log in with your **Google account**.  \n",
    "- Check the <font color=\"orange\">confirm checkbox</font> and click <font color=\"orange\">Continue</font>.  \n",
    "  <br>\n",
    "  <img src=\"resource/rb-confirm.png\" width=\"500px\">\n",
    "\n",
    "- You will then see the **Create Workspace** page.  \n",
    "- Enter the workspace name as <font color=\"orange\">Learning</font>, select <font color=\"orange\">Free plan</font>, and click <font color=\"orange\">Create Workspace</font>.  \n",
    "  <br>\n",
    "  <img src=\"resource/rb-create-workspace.png\" width=\"800px\">\n",
    "\n",
    "- Click <font color=\"orange\">Continue without adding others</font>.  \n",
    "  <br>\n",
    "  <img src=\"resource/rb-invite.png\" width=\"500px\">\n"
   ]
  },
  {
   "cell_type": "markdown",
   "metadata": {},
   "source": [
    "### 3.1.3 Create & Upload Dataset  \n",
    "- Click <font color=\"orange\">+ New Project</font>,\n",
    "<br>\n",
    "<img src=\"resource/rb-create-new-dataset.png\" width=\"800px\">\n",
    "- Create a new dataset named <font color=\"orange\">Scissors Detection</font> with the annotation group <font color=\"orange\">scissors</font>.  \n",
    "- Select the project type as <font color=\"orange\">Object Detection</font> and click <font color=\"orange\">Create public project</font>.  \n",
    "  <br>\n",
    "  <img src=\"resource/rb-create-dataset.png\" width=\"800px\">\n",
    "\n",
    "- Download and Extract the sample dataset from the following link: [Scissors Datasets](https://drive.google.com/file/d/1y2SE99H08zh-CO9Lky8IMfW9L_xN9h9q/view?usp=drive_link).  \n",
    "- Upload it to the <font color=\"orange\">Scissors Detection</font> project by clicking <font color=\"orange\">Select Files</font>.  \n",
    "  <br>\n",
    "  <img src=\"resource/rb-upload-dataset.png\" width=\"800px\">\n",
    "\n",
    "- Click <font color=\"orange\">Save and Continue</font> (top right corner).  \n",
    "  <br>\n",
    "  <img src=\"resource/rb-uploaded-data.png\" width=\"800px\">\n",
    "\n",
    "- Once the upload is complete, click <font color=\"orange\">Start Manual Labeling</font>.  \n",
    "  <br>\n",
    "  <img src=\"resource/rb-manual-labeling.png\" width=\"800px\">\n",
    "\n",
    "- Then, click <font color=\"orange\">Assign to Myself</font>.  \n",
    "  <br>\n",
    "  <img src=\"resource/rb-labeling-assign.png\" width=\"800px\">\n"
   ]
  },
  {
   "cell_type": "markdown",
   "metadata": {},
   "source": [
    "### 3.1.4 Manual Annotation  \n",
    "\n",
    "- Click <font color=\"orange\">Start Annotating</font> to begin annotating the dataset.  \n",
    "  <br>\n",
    "  <img src=\"resource/rb-labeling-start.png\" width=\"600px\">\n",
    "\n",
    "- Annotate all images by adding the **label** <font color=\"orange\">skissors</font> and a **bounding box** around the scissors, as shown below.  \n",
    "  <br>\n",
    "  <img src=\"resource/rb-annotation-process.gif\" width=\"950px\">\n",
    "\n",
    "- Once done, return to the main page by clicking the back icon.  \n",
    "  <br>\n",
    "  <img src=\"resource/rb-annotation-back.png\" width=\"400px\">\n",
    "\n",
    "- Click <font color=\"orange\">Add xxx images to Dataset</font>.  \n",
    "  <br>\n",
    "  <img src=\"resource/rb-add-dataset.png\" width=\"800px\">\n",
    "\n",
    "- Next, Choose Method <font color=\"orange\">Split Images Between Valid/Train/Test</font> then click <font color=\"orange\">Add Images</font>.  \n",
    "  <br>\n",
    "  <img src=\"resource/rb-add-images.png\" width=\"800px\">\n",
    "\n",
    "- Once completed, go to the <font color=\"orange\">Versions</font> menu.  \n",
    "  <br>\n",
    "  <img src=\"resource/rb-generate.png\" width=\"300px\">\n",
    "\n",
    "- Under <font color=\"orange\">3 Preprocessing</font>, click <font color=\"orange\">Edit</font> **Resize**.  \n",
    "  <br>\n",
    "  <img src=\"resource/rb-resize.png\" width=\"800px\">\n",
    "\n",
    "- Select <font color=\"orange\">Fit (white edge) in</font> and resize to **320x320**, then click <font color=\"orange\">Apply</font> and <font color=\"orange\">Continue</font>.  \n",
    "  <br>\n",
    "  <img src=\"resource/rb-resize-2.png\" width=\"500px\">\n",
    "\n",
    "- Under <font color=\"orange\">4 Augmentation</font>, click <font color=\"orange\">Add Augmentation Step</font>.  \n",
    "  <br>\n",
    "  <img src=\"resource/rb-augmentation.png\" width=\"500px\">\n",
    "\n",
    "- Add augmentations as needed, such as **Flip**, **Rotate**, etc.  \n",
    "- Once added, click <font color=\"orange\">Continue</font>.  \n",
    "  <br>\n",
    "  <img src=\"resource/rb-augmentation-2.gif\" width=\"500px\">\n",
    "\n",
    "- Under <font color=\"orange\">5 Create</font>, click the <font color=\"orange\">Create</font> button.  \n",
    "  <br>\n",
    "  <img src=\"resource/rb-create.png\" width=\"500px\">\n",
    "\n",
    "- At this point you are successfully annotating dataset in Roboflow.<br>\n",
    "<img src=\"resource/rb-finish.png\" width=\"700px\">"
   ]
  }
 ],
 "metadata": {
  "language_info": {
   "name": "python"
  }
 },
 "nbformat": 4,
 "nbformat_minor": 2
}
