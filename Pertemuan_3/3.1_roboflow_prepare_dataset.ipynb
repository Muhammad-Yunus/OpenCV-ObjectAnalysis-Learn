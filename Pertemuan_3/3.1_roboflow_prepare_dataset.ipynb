{
 "cells": [
  {
   "cell_type": "markdown",
   "metadata": {},
   "source": [
    "## 3.1 Prepare Custom Dataset for YOLO OBB in Roboflow"
   ]
  },
  {
   "cell_type": "markdown",
   "metadata": {},
   "source": [
    "#### 3.1.1 Dataset Annotation\n",
    "- A <font color=\"orange\">dataset</font> is a collection of data that we need for the <font color=\"orange\">model training process</font>.\n",
    "- In object detection using YOLO, the <font color=\"orange\">dataset</font> consists of a <font color=\"orange\">collection of images categorized into different classes</font>.\n",
    "- Each class of data shares similar features.\n",
    "- For example, if there is a data class called \"cat\", then the images associated with that class belong to the cat class.<br>\n",
    "<img src=\"resource/training-inferencing.jpg\" width=\"600px\">"
   ]
  },
  {
   "cell_type": "markdown",
   "metadata": {},
   "source": [
    "- One of the datasets used as the base model for YOLO is the <font color=\"orange\">COCO Dataset</font> (https://cocodataset.org/#explore).<br>\n",
    "<img src=\"resource/coco-examples.jpg\" width=\"700px\">"
   ]
  },
  {
   "cell_type": "markdown",
   "metadata": {},
   "source": [
    "- We can use our own images as a dataset to train a **YOLO model**.  \n",
    "- This technique is called <font color=\"orange\">Transfer Learning</font> because we \"transfer\" the knowledge from the <font color=\"orange\">YOLO base model</font> (trained on the COCO dataset) to a <font color=\"orange\">custom dataset</font> (our own images).  \n",
    "- However, our dataset **cannot** be used directly in YOLO training frameworks like <font color=\"orange\">Darknet</font> or <font color=\"orange\">PyTorch</font>.  \n",
    "- We first need to <font color=\"orange\">annotate</font> each image by labeling objects and drawing <font color=\"orange\">bounding boxes</font>.  \n",
    "- There are many tools for annotation, but for now, we’ll use <font color=\"orange\">Roboflow</font>.  \n"
   ]
  },
  {
   "cell_type": "markdown",
   "metadata": {},
   "source": [
    "### 3.1.2 Create Roboflow Account\n",
    "\n",
    "- Open the following link in your browser: [https://app.roboflow.com/](https://app.roboflow.com/)  \n",
    "  <br>\n",
    "  <img src=\"resource/rb-login.png\" width=\"500px\">\n",
    "\n",
    "- Choose to log in with your **Google account**.  \n",
    "- Check the <font color=\"orange\">confirm checkbox</font> and click <font color=\"orange\">Continue</font>.  \n",
    "  <br>\n",
    "  <img src=\"resource/rb-confirm.png\" width=\"500px\">\n",
    "\n",
    "- You will then see the **Create Workspace** page.  \n",
    "- Enter the workspace name as <font color=\"orange\">Learning</font>, select <font color=\"orange\">Free plan</font>, and click <font color=\"orange\">Create Workspace</font>.  \n",
    "  <br>\n",
    "  <img src=\"resource/rb-create-workspace.png\" width=\"800px\">\n",
    "\n",
    "- Click <font color=\"orange\">Continue without adding others</font>.  \n",
    "  <br>\n",
    "  <img src=\"resource/rb-invite.png\" width=\"500px\">\n"
   ]
  }
 ],
 "metadata": {
  "language_info": {
   "name": "python"
  }
 },
 "nbformat": 4,
 "nbformat_minor": 2
}
