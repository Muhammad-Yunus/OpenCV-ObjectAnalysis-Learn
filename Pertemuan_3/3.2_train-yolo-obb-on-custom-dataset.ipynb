{
  "cells": [
    {
      "cell_type": "markdown",
      "metadata": {
        "id": "HdaidImfVUfI"
      },
      "source": [
        "### 3.2 Train Yolo OBB using Pytorch & Ultralytics Framework\n",
        "- Setting GPU Environment\n",
        "- Installing Ultralytics YOLO on Colab\n",
        "- Download Dataset from Roboflow (previous notebook)\n",
        "- Train Custom YOLO Detector\n",
        "- Infer Custom Objects with Saved YOLO (`.pt`)"
      ]
    },
    {
      "cell_type": "markdown",
      "metadata": {
        "id": "FyRdDYkqAKN4"
      },
      "source": [
        "⚠️⚠️⚠️ *Please open this notebook in Google Colab* by click below link ⚠️⚠️⚠️<br><br>\n",
        "<a href=\"https://colab.research.google.com/github/Muhammad-Yunus/OpenCV-ObjectAnalysis-Learn/blob/main/Pertemuan_3/3.2_train-yolo-obb-on-custom-dataset.ipynb\" target=\"_blank\"><img src=\"https://colab.research.google.com/assets/colab-badge.svg\" alt=\"Open In Colab\"/></a>"
      ]
    },
    {
      "cell_type": "markdown",
      "metadata": {
        "id": "NoeR-vB3VUfO"
      },
      "source": [
        "### 1.1 Connect GPU Environment\n",
        "\n",
        "- Click `Connect` button in top right Google Colab notebook,<br>\n",
        "<img src=\"https://github.com/Muhammad-Yunus/OpenCV-ObjectAnalysis-Learn/blob/main/Pertemuan_3/resource/cl-connect-gpu.png?raw=1\" width=\"250px\">\n",
        "- If connecting process completed, it will turn to something look like this<br>\n",
        "<img src=\"https://github.com/Muhammad-Yunus/OpenCV-ObjectAnalysis-Learn/blob/main/Pertemuan_3/resource/cl-connect-gpu-success.png?raw=1\" width=\"250px\">"
      ]
    },
    {
      "cell_type": "markdown",
      "metadata": {
        "id": "S_HFM-s8VUfP"
      },
      "source": [
        "- Check GPU connected into Colab environment is active"
      ]
    },
    {
      "cell_type": "code",
      "execution_count": null,
      "metadata": {
        "id": "Y8cDtxLIBHgQ"
      },
      "outputs": [],
      "source": [
        "!nvidia-smi"
      ]
    },
    {
      "cell_type": "code",
      "execution_count": null,
      "metadata": {
        "id": "CjpPg4mGKc1v"
      },
      "outputs": [],
      "source": [
        "import os\n",
        "HOME = os.getcwd()\n",
        "print(HOME)"
      ]
    },
    {
      "cell_type": "markdown",
      "metadata": {
        "id": "3C3EO_2zNChu"
      },
      "source": [
        "## 1.2 Installing Ultralytics YOLO on Colab\n",
        "- `Ultralytics YOLO` is python library that help simplify YOLO training model in `Pytorch`\n",
        "- It's wrap `Pytorch` functionality as simple CLI command like we use `Darknet` framework\n",
        "- More about `Ultralytics YOLO` (https://docs.ultralytics.com/)  "
      ]
    },
    {
      "cell_type": "code",
      "execution_count": null,
      "metadata": {
        "id": "tdSMcABDNKW-"
      },
      "outputs": [],
      "source": [
        "# Pip install method (recommended)\n",
        "\n",
        "!pip install ultralytics\n",
        "\n",
        "from IPython import display\n",
        "display.clear_output()\n",
        "\n",
        "import ultralytics\n",
        "ultralytics.checks()"
      ]
    },
    {
      "cell_type": "code",
      "execution_count": null,
      "metadata": {
        "id": "VOEYrlBoP9-E"
      },
      "outputs": [],
      "source": [
        "from ultralytics import YOLO\n",
        "\n",
        "from IPython.display import display, Image"
      ]
    },
    {
      "cell_type": "markdown",
      "metadata": {
        "id": "HnnZSm5OQfPQ"
      },
      "source": [
        "### 1.2.1 Ultralytics CLI Basics"
      ]
    },
    {
      "cell_type": "markdown",
      "metadata": {
        "id": "K33S7zlkQku0"
      },
      "source": [
        "If you want to train, validate or run inference on models and don't need to make any modifications to the code, using YOLO command line interface is the easiest way to get started. Read more about CLI in [Ultralytics YOLO Docs](https://docs.ultralytics.com/usage/cli/).\n",
        "\n",
        "```\n",
        "yolo task=detect    mode=train    model=yolov8s.yaml      args...\n",
        "          classify       predict        yolov8s-cls.yaml  args...\n",
        "          segment        val            yolov8s-seg.yaml  args...\n",
        "          obb            export         yolov8s.pt        format=onnx  args...\n",
        "```"
      ]
    },
    {
      "cell_type": "markdown",
      "metadata": {
        "id": "-Y9taZTAKvdC"
      },
      "source": [
        "## 1.3 Download Dataset from Roboflow (previous notebook)\n",
        "\n",
        "- Back to `Roboflow` > `Project` > `Versions` menu\n",
        "- Then click `Download Dataset`<br>\n",
        "<img src=\"https://github.com/Muhammad-Yunus/OpenCV-ObjectAnalysis-Learn/blob/main/Pertemuan_3/resource/rb-download-dataset.png?raw=1\" width=\"850px\"><br><br>\n",
        "- Choose `YOLO V8 Oriented Bounding Box` format and select `Show download code` then click `Continue` <br>\n",
        "<img src=\"https://github.com/Muhammad-Yunus/OpenCV-ObjectAnalysis-Learn/blob/main/Pertemuan_3/resource/rb-download-format.png?raw=1\" width=\"600px\"><br><br>\n",
        "- click `Copy` icon to copy roboflow download code<br>\n",
        "<img src=\"https://github.com/Muhammad-Yunus/OpenCV-ObjectAnalysis-Learn/blob/main/Pertemuan_3/resource/rb-copy-download-code.png?raw=1\" width=\"600px\"><br><br>\n",
        "- Then <font color=\"orange\">replace below code</font> using the copied roboflow-download-code above,\n"
      ]
    },
    {
      "cell_type": "code",
      "execution_count": null,
      "metadata": {
        "id": "BSd93ZJzZZKt"
      },
      "outputs": [],
      "source": [
        "# !pip install roboflow\n",
        "\n",
        "# from roboflow import Roboflow\n",
        "# rf = Roboflow(api_key=\"xxxxxxxxxxxxxxxxxxxxxxxxx\")\n",
        "# project = rf.workspace(\"xxxxxxxxxxxxxxxxx\").project(\"xxxxxxxxxxxxxxxxxxxxxxxxxxx\")\n",
        "# version = project.version(1)\n",
        "# dataset = version.download(\"yolov8-obb\")\n"
      ]
    },
    {
      "cell_type": "markdown",
      "metadata": {
        "id": "YUjFBKKqXa-u"
      },
      "source": [
        "## Custom Training\n",
        "- Don't forget to change `imgsz=` to image size uploaded in Roboflow\n",
        "- Default `imgsz=320`\n",
        "- Default model is `yolov8s-obb.pt`"
      ]
    },
    {
      "cell_type": "code",
      "execution_count": null,
      "metadata": {
        "id": "D2YkphuiaE7_"
      },
      "outputs": [],
      "source": [
        "%cd {HOME}\n",
        "\n",
        "!yolo task=obb mode=train model=yolov8s-obb.pt data={dataset.location}/data.yaml epochs=25 imgsz=320 plots=True"
      ]
    },
    {
      "cell_type": "code",
      "execution_count": null,
      "metadata": {
        "id": "1MScstfHhArr"
      },
      "outputs": [],
      "source": [
        "!ls {HOME}/runs/obb/train/"
      ]
    },
    {
      "cell_type": "markdown",
      "metadata": {
        "id": "DxJ9wpqadO2J"
      },
      "source": [
        "- Check Results Plot"
      ]
    },
    {
      "cell_type": "code",
      "execution_count": null,
      "metadata": {
        "id": "A-urTWUkhRmn"
      },
      "outputs": [],
      "source": [
        "%cd {HOME}\n",
        "Image(filename=f'{HOME}/runs/obb/train/results.png', width=600)"
      ]
    },
    {
      "cell_type": "code",
      "execution_count": null,
      "metadata": {
        "id": "HI4nADCCj3F5"
      },
      "outputs": [],
      "source": [
        "%cd {HOME}\n",
        "Image(filename=f'{HOME}/runs/obb/train/val_batch0_pred.jpg', width=600)"
      ]
    },
    {
      "cell_type": "markdown",
      "metadata": {
        "id": "6ODk1VTlevxn"
      },
      "source": [
        "- Check mAP on Validation Dataset"
      ]
    },
    {
      "cell_type": "code",
      "execution_count": null,
      "metadata": {
        "id": "YpyuwrNlXc1P"
      },
      "outputs": [],
      "source": [
        "%cd {HOME}\n",
        "\n",
        "!yolo task=obb mode=val model={HOME}/runs/obb/train/weights/best.pt data={dataset.location}/data.yaml"
      ]
    },
    {
      "cell_type": "markdown",
      "metadata": {
        "id": "i4eASbcWkQBq"
      },
      "source": [
        "## Test inference on Custom Yolo V8 Model\n",
        "- trained model located in `{HOME}/runs/detect/train/weights/best.pt`\n",
        "- we will try to do inferencing using that model to detect test image in `{dataset.location}/test/images`"
      ]
    },
    {
      "cell_type": "code",
      "execution_count": null,
      "metadata": {
        "id": "Wjc1ctZykYuf"
      },
      "outputs": [],
      "source": [
        "%cd {HOME}\n",
        "!yolo task=obb mode=predict model={HOME}/runs/obb/train/weights/best.pt conf=0.4 source={dataset.location}/test/images save=True"
      ]
    },
    {
      "cell_type": "markdown",
      "metadata": {
        "id": "mEYIo95n-I0S"
      },
      "source": [
        "- Above command will generating detected image that located in `{HOME}/runs/detect/`\n",
        "- Show the detection image result using script below"
      ]
    },
    {
      "cell_type": "code",
      "execution_count": null,
      "metadata": {
        "id": "jbVjEtPAkz3j"
      },
      "outputs": [],
      "source": [
        "import glob\n",
        "from IPython.display import Image, display\n",
        "\n",
        "# Define the base path where the folders are located\n",
        "base_path = f'{HOME}/runs/obb/'\n",
        "\n",
        "# List all directories that start with 'predict' in the base path\n",
        "subfolders = [os.path.join(base_path, d) for d in os.listdir(base_path)\n",
        "              if os.path.isdir(os.path.join(base_path, d)) and d.startswith('predict')]\n",
        "\n",
        "# Find the latest folder by modification time\n",
        "latest_folder = max(subfolders, key=os.path.getmtime)\n",
        "\n",
        "image_paths = glob.glob(f'{latest_folder}/*.jpg')[:3]\n",
        "\n",
        "# Display each image\n",
        "for image_path in image_paths:\n",
        "    display(Image(filename=image_path, width=320))\n",
        "    print(\"\\n\")"
      ]
    },
    {
      "cell_type": "markdown",
      "metadata": {},
      "source": [
        "## Download Trained Model "
      ]
    },
    {
      "cell_type": "code",
      "execution_count": null,
      "metadata": {},
      "outputs": [],
      "source": [
        "import shutil\n",
        "from google.colab import files\n",
        "\n",
        "shutil.copy(f\"{HOME}/runs/obb/train/weights/best.pt\",f\"{HOME}/yolov8-obb-custom.pt\")\n",
        "files.download(f\"{HOME}/yolov8-obb-custom.pt\")"
      ]
    },
    {
      "cell_type": "markdown",
      "metadata": {
        "id": "KZTLO1GcgGDh"
      },
      "source": [
        "________________________________________________________________________\n",
        "\n",
        "# Source\n",
        "- https://blog.roboflow.com/train-yolov8-obb-model/\n",
        "- https://github.com/roboflow/notebooks/blob/main/notebooks/train-yolov8-object-detection-on-custom-dataset.ipynb"
      ]
    }
  ],
  "metadata": {
    "accelerator": "GPU",
    "colab": {
      "provenance": []
    },
    "gpuClass": "standard",
    "kernelspec": {
      "display_name": "Python 3 (ipykernel)",
      "language": "python",
      "name": "python3"
    },
    "language_info": {
      "codemirror_mode": {
        "name": "ipython",
        "version": 3
      },
      "file_extension": ".py",
      "mimetype": "text/x-python",
      "name": "python",
      "nbconvert_exporter": "python",
      "pygments_lexer": "ipython3",
      "version": "3.9.6"
    }
  },
  "nbformat": 4,
  "nbformat_minor": 0
}
