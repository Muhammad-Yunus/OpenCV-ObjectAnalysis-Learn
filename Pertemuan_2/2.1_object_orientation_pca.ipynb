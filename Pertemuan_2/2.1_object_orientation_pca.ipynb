{
 "cells": [
  {
   "cell_type": "markdown",
   "metadata": {},
   "source": [
    "## 2.1 Compute 'Irregular Shape' Object Orientation using PCA Algorithm"
   ]
  },
  {
   "cell_type": "markdown",
   "metadata": {},
   "source": [
    "- <font color=\"orange\">Principal Component Analysis (PCA)</font> is a technique used to <font color=\"orange\">simplify complex data</font> by finding the most <font color=\"orange\">important patterns</font> in it.<br>\n",
    "<img src=\"resource/pca_ilus_2.png\" width=\"60%\"><br><br>\n",
    "    - Above data has two variables: `y` and `x`. \n",
    "    - However, these two variables are <font color=\"orange\">not independent</font> of each other. \n",
    "        - higher `x` has higher `y`\n",
    "        - lower `x` has lower `y`\n",
    "        - given the `x`, we can probably estimate the `y`; and vice versa.\n",
    "    - That's mean they have a <font color=\"orange\">strong correlation</font>. \n",
    "    - Thus, we may say that the `x` & `y` can be described with a <font color=\"orange\">single component</font>."
   ]
  },
  {
   "cell_type": "markdown",
   "metadata": {},
   "source": [
    "- Ilustration how to compute PCA<br><br>\n",
    "<img src=\"resource/pca_ilus_3.png\" width=\"80%\"><br><br>\n",
    "- The <font color=\"orange\">eigenvector</font> with the highest <font color=\"orange\">eigenvalue</font> is the <font color=\"orange\">first principal component</font>—the best direction for data variation.\n",
    "<img src=\"resource/pca_animate.gif\" width=\"60%\"><br><br>"
   ]
  },
  {
   "cell_type": "markdown",
   "metadata": {},
   "source": [
    "- Compute PCA in OpenCV<br>\n",
    "    ```python\n",
    "    cv2.PCACompute(data)\n",
    "- Input : \n",
    "    - `data` (`numpy.ndarray`)\n",
    "        - A 2D array of shape (`N`, `D`), where:\n",
    "        - `N` = Number of data points (e.g., contour points)\n",
    "        - `D` = Number of features (e.g., 2 for (x, y) coordinates)\n",
    "- Output :\n",
    "    - `mean` (`numpy.ndarray`)\n",
    "        - A (1, `D`) array representing the mean of the data.\n",
    "    - `eigenvectors` (`numpy.ndarray`)\n",
    "        - A (`D`, `D'`) array where each row is an eigenvector.\n",
    "        - The `first eigenvector` corresponds to the `principal axis` (largest variance direction).\n",
    "        - `D'` is the number of selected components (default is D)."
   ]
  },
  {
   "cell_type": "code",
   "execution_count": null,
   "metadata": {},
   "outputs": [],
   "source": [
    "import cv2\n",
    "import numpy as np\n",
    "import matplotlib.pyplot as plt\n",
    "\n",
    "print(\"OpenCV version: \" + cv2.__version__)"
   ]
  },
  {
   "cell_type": "markdown",
   "metadata": {},
   "source": [
    "#### EXAMPLE 1 - Find Object Orientation using PCA"
   ]
  },
  {
   "cell_type": "code",
   "execution_count": null,
   "metadata": {},
   "outputs": [],
   "source": [
    "# Load and convert the image to grayscale\n",
    "image = cv2.imread(\"rotated_blocks.jpg\")\n",
    "gray = cv2.cvtColor(image, cv2.COLOR_BGR2GRAY)\n",
    "\n",
    "# Step 1: Apply simple Binary Thresholding (Inverse Binary Thresholding)\n",
    "_, binary = cv2.threshold(gray, 230, 255, cv2.THRESH_BINARY_INV)\n",
    "\n",
    "# Step 2: Apply Canny Edge Detection\n",
    "edges = cv2.Canny(binary, 50, 200)\n",
    "\n",
    "# Display the images binary and edges\n",
    "plt.figure(figsize=(20,10))\n",
    "\n",
    "plt.subplot(1, 2, 1)\n",
    "plt.imshow(binary, cmap=\"gray\")\n",
    "plt.title(\"Binary Image\")\n",
    "plt.axis(\"off\")\n",
    "\n",
    "plt.subplot(1, 2, 2)\n",
    "plt.imshow(edges, cmap=\"gray\")\n",
    "plt.title(\"Canny Edge Detection\")\n",
    "plt.axis(\"off\")\n",
    "\n",
    "plt.show()"
   ]
  },
  {
   "cell_type": "code",
   "execution_count": null,
   "metadata": {},
   "outputs": [],
   "source": [
    "# Step 3: Find contours\n",
    "contours, _ = cv2.findContours(binary, cv2.RETR_EXTERNAL, cv2.CHAIN_APPROX_SIMPLE)\n",
    "\n",
    "# Step 4: Calculate minimum area bounding rectangle\n",
    "output = image.copy()\n",
    "for contour in contours:\n",
    "    \n",
    "    # filter out small contours\n",
    "    if cv2.contourArea(contour) < 50:\n",
    "        continue\n",
    "\n",
    "    # calculate PCA of the contour\n",
    "    data_points = np.array(contour.squeeze(), dtype=np.float64)\n",
    "    mean, eigenvectors = cv2.PCACompute(data_points, mean=None)\n",
    "\n",
    "    # calculate the center of the contour\n",
    "    center = tuple(mean[0].astype(int))\n",
    "\n",
    "    # eigenvectors[0, 0] is the x-component of the first eigenvector\n",
    "    # eigenvectors[0, 1] is the y-component of the first eigenvector\n",
    "    # Computes the angle (θ) of the principal axis with respect to the x-axis.\n",
    "    angle_rad_original = np.arctan2(eigenvectors[0, 1], eigenvectors[0, 0]) # in radians within the range [-π, π]\n",
    "    angle_rad = (angle_rad_original - np.pi) % (-1 * np.pi) # in radians within the range [0, π]\n",
    "    angle_rad = abs(angle_rad) # Convert to range [0, π]\n",
    "    \n",
    "    # Define the length of the orientation lines\n",
    "    length = 50\n",
    "\n",
    "    # Black line for original orientation, always referenced as horizontal line\n",
    "    cv2.line(output, center, (center[0] + length, center[1]), (0, 0, 0), 2)  \n",
    "\n",
    "    # Compute the end point for the **rotation axis** (red line)\n",
    "    end_x = int(center[0] + length * np.cos(angle_rad)) # x = x0 + r * cos(angle)\n",
    "    end_y = int(center[1] - length * np.sin(angle_rad)) # y = y0 - r * sin(angle)\n",
    "    cv2.line(output, center, (end_x, end_y), (0, 0, 255), 2)  # Red line for rotation axis\n",
    "\n",
    "    # Draw angle text near the red line\n",
    "    angle = np.rad2deg(angle_rad) # in degrees within the range [0, 180]\n",
    "    text_position = (center[0] - 7, center[1] - 7)\n",
    "    cv2.putText(output, f\"{int(angle)}\", text_position, cv2.FONT_HERSHEY_SIMPLEX, \n",
    "                0.6, (0, 0, 0), 1, cv2.LINE_AA)\n",
    "\n",
    "                    \n",
    "# Show results using Matplotlib\n",
    "plt.figure(figsize=(20, 6))\n",
    "plt.imshow(output[:, :, ::-1])  # Convert BGR to RGB\n",
    "plt.axis(\"off\")\n",
    "plt.title(\"Object Orientation with Reference Line\")\n",
    "plt.show()"
   ]
  },
  {
   "cell_type": "markdown",
   "metadata": {},
   "source": [
    "- ✅ Pros of PCA\n",
    "    - ✔ More accurate for <font color=\"orange\">elongated objects</font>: PCA aligns to the true <font color=\"orange\">major axis</font> of an object, making it ideal for non-rectangular or irregular shapes.\n",
    "        - An <font color=\"orange\">elongated objects</font> is a shape that is significantly longer in one direction than the other, it has a clear principal axis along which its length dominates.\n",
    "    - ✔ Handles <font color=\"orange\">curved contours</font> well: Since PCA works with point distributions, it can better approximate orientation for rounded or irregular objects.\n",
    "    - ✔ Can be used for shape analysis: The eigenvectors give insights into the object's spread and symmetry.\n",
    "\n",
    "- ❌ Cons of PCA\n",
    "    - ✖ More computationally expensive: PCA involves matrix operations like eigen decomposition, which can be slower than cv2.minAreaRect.\n",
    "    - ✖ Sensitive to outliers: Noisy data points (e.g., extra edges) can distort the computed orientation.\n",
    "        - However it can be handled by rejecting small contour\n",
    "    - ✖ Fails on perfectly circular objects: Since there’s no dominant axis in a circle, PCA struggles to determine orientation reliably.\n",
    "    - ✖ Sensitive to <font color=\"orange\">concave shapes</font> – May not always align well if the object has large holes or concave."
   ]
  },
  {
   "cell_type": "markdown",
   "metadata": {},
   "source": [
    "## Source : \n",
    "- https://devopedia.org/principal-component-analysis\n",
    "- https://builtin.com/data-science/step-step-explanation-principal-component-analysis"
   ]
  }
 ],
 "metadata": {
  "kernelspec": {
   "display_name": "BelajarOpenCV",
   "language": "python",
   "name": "python3"
  },
  "language_info": {
   "codemirror_mode": {
    "name": "ipython",
    "version": 3
   },
   "file_extension": ".py",
   "mimetype": "text/x-python",
   "name": "python",
   "nbconvert_exporter": "python",
   "pygments_lexer": "ipython3",
   "version": "3.8.20"
  }
 },
 "nbformat": 4,
 "nbformat_minor": 2
}
