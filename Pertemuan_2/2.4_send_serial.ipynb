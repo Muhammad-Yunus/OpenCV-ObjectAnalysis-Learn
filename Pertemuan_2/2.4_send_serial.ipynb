{
 "cells": [
  {
   "cell_type": "markdown",
   "metadata": {},
   "source": [
    "## 2.4 Send Data to Serial"
   ]
  },
  {
   "cell_type": "markdown",
   "metadata": {},
   "source": [
    "- Install `pyserial` in Anaconda prompt\n",
    "    - Open Anaconda Prompt\n",
    "    - Open environment `BelajarOpenCV`\n",
    "        ```bash\n",
    "        conda activate BelajarOpenCV\n",
    "    - install `pyserial`\n",
    "        ```bash\n",
    "        pip install pyserial"
   ]
  },
  {
   "cell_type": "markdown",
   "metadata": {},
   "source": [
    "- Here's a basic Python script to send data to serial (UART) connection using the pyserial library.\n",
    "    - Modify the `SERIAL_PORT` and `BAUD_RATE` according to your device in device manager."
   ]
  },
  {
   "cell_type": "code",
   "execution_count": null,
   "metadata": {},
   "outputs": [],
   "source": [
    "import serial\n",
    "import time"
   ]
  },
  {
   "cell_type": "code",
   "execution_count": null,
   "metadata": {},
   "outputs": [],
   "source": [
    "# Set the correct serial port and baud rate\n",
    "SERIAL_PORT = \"COM3\"  # Change to your Arduino's port (e.g., \"/dev/ttyUSB0\" for Linux/macOS)\n",
    "BAUD_RATE = 9600      # Must match the baud rate in your Arduino code\n",
    "\n",
    "# Open serial connection\n",
    "try:\n",
    "    ser = serial.Serial(SERIAL_PORT, BAUD_RATE, timeout=1)\n",
    "    time.sleep(2)  # Give the connection a moment to initialize\n",
    "    print(f\"Connected to {SERIAL_PORT} at {BAUD_RATE} baud.\")\n",
    "\n",
    "    while True:\n",
    "        data = input(\"Enter data to send: \")  # Get user input\n",
    "        ser.write(data.encode())  # Send data as bytes\n",
    "        print(f\"Sent: {data}\")\n",
    "\n",
    "        time.sleep(0.5)  # Small delay to avoid overwhelming the Arduino\n",
    "\n",
    "except serial.SerialException as e:\n",
    "    print(f\"Error: {e}\")\n",
    "\n",
    "finally:\n",
    "    ser.close()\n",
    "    print(\"Serial connection closed.\")"
   ]
  },
  {
   "cell_type": "markdown",
   "metadata": {},
   "source": [
    "- Example Arduino Code\n",
    "- Upload this to your Arduino to receive data from Python.\n",
    "    ```cpp\n",
    "    void setup() {\n",
    "        Serial.begin(9600);\n",
    "    }\n",
    "\n",
    "    void loop() {\n",
    "        if (Serial.available()) {\n",
    "            String received = Serial.readStringUntil('\\n');\n",
    "            Serial.print(\"Received: \");\n",
    "            Serial.println(received);\n",
    "        }\n",
    "    }"
   ]
  },
  {
   "cell_type": "markdown",
   "metadata": {},
   "source": [
    "#### 2.3.2 Send Detected Object Centroid and Orientation to Serial"
   ]
  },
  {
   "cell_type": "code",
   "execution_count": null,
   "metadata": {},
   "outputs": [],
   "source": [
    "import cv2\n",
    "import numpy as np\n",
    "import matplotlib.pyplot as plt\n",
    "\n",
    "print(\"OpenCV version: \" + cv2.__version__)"
   ]
  },
  {
   "cell_type": "code",
   "execution_count": null,
   "metadata": {},
   "outputs": [],
   "source": [
    "# Serial communication setup (change COM port as needed)\n",
    "SERIAL_PORT = \"COM3\"  # Change for Linux/macOS, e.g., \"/dev/ttyUSB0\"\n",
    "BAUD_RATE = 9600\n",
    "\n",
    "try:\n",
    "    ser = serial.Serial(SERIAL_PORT, BAUD_RATE, timeout=1)\n",
    "    time.sleep(2)  # Give some time for the connection to initialize\n",
    "    print(f\"Connected to {SERIAL_PORT} at {BAUD_RATE} baud.\")\n",
    "except serial.SerialException as e:\n",
    "    print(f\"Serial connection error: {e}\")\n",
    "    ser = None\n",
    "\n",
    "# Load and convert the image to grayscale\n",
    "image = cv2.imread(\"hands.jpg\")  # Change to \"blocks.jpg\" if needed\n",
    "gray = cv2.cvtColor(image, cv2.COLOR_BGR2GRAY)\n",
    "\n",
    "# Step 1: Apply Binary Thresholding\n",
    "_, binary = cv2.threshold(gray, 70, 255, cv2.THRESH_BINARY)  # Adjust threshold if needed\n",
    "\n",
    "# Step 2: Apply Canny Edge Detection\n",
    "edges = cv2.Canny(binary, 50, 200)\n",
    "\n",
    "# Step 3: Find contours\n",
    "contours, _ = cv2.findContours(binary, cv2.RETR_EXTERNAL, cv2.CHAIN_APPROX_SIMPLE)\n",
    "\n",
    "# Step 4: Process each detected contour\n",
    "output = image.copy()\n",
    "num_objects = 0  # Counter for detected objects\n",
    "\n",
    "for contour in contours:\n",
    "    if cv2.contourArea(contour) < 50:  # Skip small contours\n",
    "        continue\n",
    "\n",
    "    num_objects += 1\n",
    "\n",
    "    # Convex hull to smooth contour shape\n",
    "    contour = cv2.convexHull(contour)\n",
    "\n",
    "    # Compute centroid\n",
    "    M = cv2.moments(contour)\n",
    "    if M[\"m00\"] != 0:\n",
    "        cx = int(M[\"m10\"] / M[\"m00\"])\n",
    "        cy = int(M[\"m01\"] / M[\"m00\"])\n",
    "        cv2.circle(output, (cx, cy), 3, (0, 0, 255), -1)  # Draw centroid\n",
    "\n",
    "    # PCA for orientation detection\n",
    "    data_points = np.array(contour.squeeze(), dtype=np.float64)\n",
    "    mean, eigenvectors = cv2.PCACompute(data_points, mean=None)\n",
    "    center = tuple(mean[0].astype(int))\n",
    "\n",
    "    # Compute orientation angle\n",
    "    angle_rad_original = np.arctan2(eigenvectors[0, 1], eigenvectors[0, 0])  \n",
    "    angle_rad = (angle_rad_original - np.pi) % (-1 * np.pi)\n",
    "    angle_rad = abs(angle_rad)\n",
    "    angle_deg = int(np.rad2deg(angle_rad))  # Convert radians to degrees\n",
    "\n",
    "    # Draw orientation lines\n",
    "    length = 50\n",
    "    cv2.line(output, center, (center[0] + length, center[1]), (0, 0, 0), 2)  # Reference line\n",
    "    end_x = int(center[0] + length * np.cos(angle_rad))\n",
    "    end_y = int(center[1] - length * np.sin(angle_rad))\n",
    "    cv2.line(output, center, (end_x, end_y), (0, 0, 255), 2)  # Orientation line\n",
    "\n",
    "    # Draw angle value\n",
    "    text_position = (center[0] - 7, center[1] - 7)\n",
    "    cv2.putText(output, f\"{angle_deg}\", text_position, cv2.FONT_HERSHEY_SIMPLEX, 0.6, (0, 0, 0), 1)\n",
    "\n",
    "    # Send centroid and angle data to Arduino via Serial\n",
    "    if ser:\n",
    "        serial_data = f\"{cx},{cy},{angle_deg}\\n\"\n",
    "        ser.write(serial_data.encode())\n",
    "        print(f\"Sent: {serial_data.strip()}\")\n",
    "\n",
    "# Display results\n",
    "plt.figure(figsize=(15, 5))\n",
    "plt.imshow(output[:, :, ::-1])  # Convert BGR to RGB\n",
    "plt.axis(\"off\")\n",
    "plt.title(f\"Detected Objects: {num_objects}\")\n",
    "plt.show()\n",
    "\n",
    "# Close serial connection\n",
    "if ser:\n",
    "    ser.close()\n"
   ]
  }
 ],
 "metadata": {
  "language_info": {
   "name": "python"
  }
 },
 "nbformat": 4,
 "nbformat_minor": 2
}
