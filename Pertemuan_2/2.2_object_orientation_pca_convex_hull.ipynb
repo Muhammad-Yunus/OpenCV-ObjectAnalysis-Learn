{
 "cells": [
  {
   "cell_type": "markdown",
   "metadata": {},
   "source": [
    "### 2.2 Compute 'irregular + concave shape' object orientation using Convex Hull + PCA"
   ]
  },
  {
   "cell_type": "markdown",
   "metadata": {},
   "source": [
    "- The `cv2.convexHull()` function in OpenCV is used to find the **convex hull** of a set of points, \n",
    "    - which is the smallest convex shape that fully encloses the given points. \n",
    "- It is commonly used in **shape analysis and object detection** to remove concavities and outliers.\n",
    "```python\n",
    "    hull = cv2.convexHull(points[, hull[, clockwise[, returnPoints]]])\n",
    "```\n",
    "- Parameter :\n",
    "    - `points` are the contours we pass into. <br>\n",
    "    - `hull` Output array to store hull indices (used when `returnPoints=False`). <br>\n",
    "    - `clockwise` : Orientation flag. If it is `True`, the output convex hull is oriented clockwise. Otherwise, it is oriented counter-clockwise. <br>\n",
    "    - `returnPoints` : If `True`, returns the hull points. If `False`, returns the indices of convex hull points in the original contour. Default: `True`. <br>\n",
    "    <img src=\"resource/convexitydefects.jpg\" style=\"width:200px; margin-top:10px;\"></img><br><br>\n"
   ]
  },
  {
   "cell_type": "code",
   "execution_count": null,
   "metadata": {},
   "outputs": [],
   "source": [
    "import cv2\n",
    "import numpy as np\n",
    "import matplotlib.pyplot as plt\n",
    "\n",
    "print(\"OpenCV version: \" + cv2.__version__)"
   ]
  },
  {
   "cell_type": "markdown",
   "metadata": {},
   "source": [
    "#### EXAMPLE 1 - Find Object Orientation using PCA + Convex Hull"
   ]
  },
  {
   "cell_type": "code",
   "execution_count": null,
   "metadata": {},
   "outputs": [],
   "source": [
    "# Load and convert the image to grayscale\n",
    "image = cv2.imread(\"hands.jpg\")\n",
    "gray = cv2.cvtColor(image, cv2.COLOR_BGR2GRAY)\n",
    "\n",
    "# Step 1: Apply simple Binary Thresholding (Inverse Binary Thresholding)\n",
    "_, binary = cv2.threshold(gray, 70, 255, cv2.THRESH_BINARY)\n",
    "\n",
    "# Step 2: Apply Canny Edge Detection\n",
    "edges = cv2.Canny(binary, 50, 200)\n",
    "\n",
    "# Display the images binary and edges\n",
    "plt.figure(figsize=(20,10))\n",
    "\n",
    "plt.subplot(1, 2, 1)\n",
    "plt.imshow(binary, cmap=\"gray\")\n",
    "plt.title(\"Binary Image\")\n",
    "plt.axis(\"off\")\n",
    "\n",
    "plt.subplot(1, 2, 2)\n",
    "plt.imshow(edges, cmap=\"gray\")\n",
    "plt.title(\"Canny Edge Detection\")\n",
    "plt.axis(\"off\")\n",
    "\n",
    "plt.show()"
   ]
  },
  {
   "cell_type": "code",
   "execution_count": null,
   "metadata": {},
   "outputs": [],
   "source": [
    "# Step 3: Find contours\n",
    "contours, _ = cv2.findContours(binary, cv2.RETR_EXTERNAL, cv2.CHAIN_APPROX_SIMPLE)\n",
    "\n",
    "# Step 4: Calculate minimum area bounding rectangle\n",
    "output = image.copy()\n",
    "for contour in contours:\n",
    "    \n",
    "    # filter out small contours\n",
    "    if cv2.contourArea(contour) < 50:\n",
    "        continue\n",
    "\n",
    "    # modify contour by applying convex hull\n",
    "    contour = cv2.convexHull(contour)\n",
    "\n",
    "    # draw contour\n",
    "    cv2.drawContours(output, [contour], -1, (0, 255, 0), 1)\n",
    "\n",
    "    # calculate PCA of the contour\n",
    "    data_points = np.array(contour.squeeze(), dtype=np.float64)\n",
    "    mean, eigenvectors = cv2.PCACompute(data_points, mean=None)\n",
    "\n",
    "    # calculate the center of the contour\n",
    "    center = tuple(mean[0].astype(int))\n",
    "\n",
    "    # eigenvectors[0, 0] is the x-component of the first eigenvector\n",
    "    # eigenvectors[0, 1] is the y-component of the first eigenvector\n",
    "    # Computes the angle (θ) of the principal axis with respect to the x-axis.\n",
    "    angle_rad_original = np.arctan2(eigenvectors[0, 1], eigenvectors[0, 0]) # in radians within the range [-π, π]\n",
    "    angle_rad = (angle_rad_original - np.pi) % (-1 * np.pi) # in radians within the range [0, π]\n",
    "    angle_rad = abs(angle_rad) # Convert to range [0, π]\n",
    "    \n",
    "    # Define the length of the orientation lines\n",
    "    length = 50\n",
    "\n",
    "    # Black line for original orientation, always referenced as horizontal line\n",
    "    cv2.line(output, center, (center[0] + length, center[1]), (0, 0, 0), 2)  \n",
    "\n",
    "    # Compute the end point for the **rotation axis** (red line)\n",
    "    end_x = int(center[0] + length * np.cos(angle_rad)) # x = x0 + r * cos(angle)\n",
    "    end_y = int(center[1] - length * np.sin(angle_rad)) # y = y0 - r * sin(angle)\n",
    "    cv2.line(output, center, (end_x, end_y), (0, 0, 255), 2)  # Red line for rotation axis\n",
    "\n",
    "    # Draw angle text near the red line\n",
    "    angle = np.rad2deg(angle_rad) # in degrees within the range [0, 180]\n",
    "    text_position = (center[0] - 7, center[1] - 7)\n",
    "    cv2.putText(output, f\"{int(angle)}\", text_position, cv2.FONT_HERSHEY_SIMPLEX, \n",
    "                0.6, (0, 0, 0), 1, cv2.LINE_AA)\n",
    "\n",
    "                    \n",
    "# Show results using Matplotlib\n",
    "plt.figure(figsize=(20, 6))\n",
    "plt.imshow(output[:, :, ::-1])  # Convert BGR to RGB\n",
    "plt.axis(\"off\")\n",
    "plt.title(\"Object Orientation with Reference Line\")\n",
    "plt.show()"
   ]
  },
  {
   "cell_type": "markdown",
   "metadata": {},
   "source": [
    "- ✅ Pros\n",
    "    - ✔ More stable for concave objects: The Convex Hull removes indentations and irregularities, leading to a more robust orientation estimate.\n",
    "    - ✔ Reduces noise sensitivity: Small noise points or artifacts outside the object boundary are ignored.\n",
    "    - ✔ Better alignment with human perception: The convex shape better represents the \"true\" object orientation.\n",
    "- ❌ Cons\n",
    "    - ✖ Less effective for <font color=\"orange\">elongated objects</font>: If the object is already well-represented by PCA, Convex Hull may not add much value.\n",
    "    - ✖ Inaccurate when convex hull result become <font color=\"orange\">non-elongated shape</font> and Loses shape details.<br><br>\n",
    "    <img src=\"resource/plane_output.png\" width=\"50%\">\n"
   ]
  },
  {
   "cell_type": "markdown",
   "metadata": {},
   "source": [
    "## Source :\n",
    "\n",
    "- https://docs.opencv.org/4.x/d7/d1d/tutorial_hull.html"
   ]
  }
 ],
 "metadata": {
  "kernelspec": {
   "display_name": "BelajarOpenCV",
   "language": "python",
   "name": "python3"
  },
  "language_info": {
   "codemirror_mode": {
    "name": "ipython",
    "version": 3
   },
   "file_extension": ".py",
   "mimetype": "text/x-python",
   "name": "python",
   "nbconvert_exporter": "python",
   "pygments_lexer": "ipython3",
   "version": "3.8.20"
  }
 },
 "nbformat": 4,
 "nbformat_minor": 2
}
