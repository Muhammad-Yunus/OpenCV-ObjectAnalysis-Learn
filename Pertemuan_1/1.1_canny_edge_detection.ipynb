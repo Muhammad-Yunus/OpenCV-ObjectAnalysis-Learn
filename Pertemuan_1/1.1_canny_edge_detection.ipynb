{
 "cells": [
  {
   "cell_type": "markdown",
   "metadata": {},
   "source": [
    "## 1.1 OpenCV - Canny Edge Detection\n",
    "- Canny Edge detection is most popular edge detection algorithm. \n",
    "- Can be used to find the edges of objects in the image.\n",
    "- Canny Edge detection is illustrated as follows,<br>\n",
    "<img src=\"resource/canny.png\" width=\"100%\"><br><br>\n",
    "\n",
    "    | **Condition**                     | **Effect on Edge Detection**                               |\n",
    "    |-----------------------------------|-----------------------------------------------------------|\n",
    "    | `Gradient > threshMax`           | **Strong edge** → Definitely kept.                         |\n",
    "    | `threshMin ≤ Gradient ≤ threshMax` | **Weak edge** → Kept **only if connected** to a strong edge. |\n",
    "    | `Gradient < threshMin`           | **Non-edge** → Discarded as noise.                         |\n",
    "\n",
    "<br><br>\n",
    "- method `cv2.Canny(img, threshMin, threshMax)`\n",
    "- where : \n",
    "    - `img` : input image\n",
    "    - `threshMin` : minimum threshold for the hysteresis procedure.\n",
    "    - `threshMax` : maximum threshold for the hysteresis procedure."
   ]
  },
  {
   "cell_type": "code",
   "execution_count": null,
   "metadata": {},
   "outputs": [],
   "source": [
    "import cv2\n",
    "import numpy as np\n",
    "import matplotlib.pyplot as plt\n",
    "\n",
    "print(\"OpenCV version: \" + cv2.__version__)"
   ]
  },
  {
   "cell_type": "markdown",
   "metadata": {},
   "source": [
    "#### EXAMPLE 1 : Find Edge image from Grayscale image"
   ]
  },
  {
   "cell_type": "code",
   "execution_count": null,
   "metadata": {},
   "outputs": [],
   "source": [
    "img = cv2.imread('blocks.jpg')\n",
    "\n",
    "# Convert to Gray\n",
    "gray = cv2.cvtColor(img, cv2.COLOR_BGR2GRAY)\n",
    "\n",
    "# Apply canny edge detection from grayscale image\n",
    "edged = cv2.Canny(gray, 100, 200)\n",
    "\n",
    "# Show result\n",
    "plt.figure(figsize=(20,7))\n",
    "plt.subplot(1, 2, 1)\n",
    "plt.title(\"Grayscale Image\")\n",
    "plt.axis(\"off\")\n",
    "plt.imshow(gray, cmap=\"gray\")\n",
    "\n",
    "plt.subplot(1, 2, 2)\n",
    "plt.title(\"Edged Image\")\n",
    "plt.axis(\"off\")\n",
    "plt.imshow(edged, cmap=\"gray\")\n",
    "\n",
    "plt.show()"
   ]
  },
  {
   "cell_type": "markdown",
   "metadata": {},
   "source": [
    "#### EXAMPLE 2 : Find Edge image from Binary Image"
   ]
  },
  {
   "cell_type": "code",
   "execution_count": null,
   "metadata": {},
   "outputs": [],
   "source": [
    "img = cv2.imread('blocks.jpg')\n",
    "\n",
    "# Convert to Gray\n",
    "gray = cv2.cvtColor(img, cv2.COLOR_BGR2GRAY)\n",
    "\n",
    "# Apply simple Binary Thresholding (Inverse Binary Thresholding), since the background is white we use cv2.THRESH_BINARY_INV\n",
    "_, thresh = cv2.threshold(gray, 230, 255, cv2.THRESH_BINARY_INV)\n",
    "\n",
    "# Apply canny Edge Detection from binary image\n",
    "edged = cv2.Canny(thresh, 100, 250)\n",
    "\n",
    "# Show result\n",
    "plt.figure(figsize=(20,10))\n",
    "\n",
    "plt.subplot(2, 2, 1)\n",
    "plt.title(\"Original Image\")\n",
    "plt.axis(\"off\")\n",
    "plt.imshow(img[:,:,::-1])\n",
    "\n",
    "plt.subplot(2, 2, 2)\n",
    "plt.title(\"Gray Image\")\n",
    "plt.axis(\"off\")\n",
    "plt.imshow(gray, cmap=\"gray\")\n",
    "\n",
    "plt.subplot(2, 2, 3)\n",
    "plt.title(\"Binary Image\")\n",
    "plt.axis(\"off\")\n",
    "plt.imshow(thresh, cmap=\"gray\")\n",
    "\n",
    "plt.subplot(2, 2, 4)\n",
    "plt.title(\"Edged Image\")\n",
    "plt.axis(\"off\")\n",
    "plt.imshow(edged, cmap=\"gray\")"
   ]
  }
 ],
 "metadata": {
  "kernelspec": {
   "display_name": "BelajarOpenCV",
   "language": "python",
   "name": "python3"
  },
  "language_info": {
   "codemirror_mode": {
    "name": "ipython",
    "version": 3
   },
   "file_extension": ".py",
   "mimetype": "text/x-python",
   "name": "python",
   "nbconvert_exporter": "python",
   "pygments_lexer": "ipython3",
   "version": "3.8.20"
  }
 },
 "nbformat": 4,
 "nbformat_minor": 2
}
