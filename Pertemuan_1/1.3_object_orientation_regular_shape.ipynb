{
 "cells": [
  {
   "cell_type": "markdown",
   "metadata": {},
   "source": [
    "## 1.3 Compute 'regular shape' object orientation using Contour Analysis"
   ]
  },
  {
   "cell_type": "code",
   "execution_count": null,
   "metadata": {},
   "outputs": [],
   "source": [
    "import cv2\n",
    "import numpy as np\n",
    "import matplotlib.pyplot as plt\n",
    "\n",
    "print(\"OpenCV version: \" + cv2.__version__)"
   ]
  },
  {
   "cell_type": "markdown",
   "metadata": {},
   "source": [
    "### Using Contour Minimum Rectangle Area (`cv2.minAreaRect(contour)`)\n",
    "- The function `cv2.minAreaRect(contour)` **finds the minimum-area bounding rectangle** that **encloses a given contour**. \n",
    "- This rectangle may be **rotated** to fit the shape more efficiently.\n",
    "    \n",
    "    ```python\n",
    "    rect = cv2.minAreaRect(contour)\n",
    "\n",
    "- The rotation angle depends on the rectangle's aspect ratio:\n",
    "    - **If `width > height`** → The angle represents the **rotation from the horizontal axis**.\n",
    "    - **If `width < height`** → The angle represents the **rotation from the vertical axis**.\n"
   ]
  },
  {
   "cell_type": "code",
   "execution_count": null,
   "metadata": {},
   "outputs": [],
   "source": [
    "# Load and convert the image to grayscale\n",
    "image = cv2.imread(\"blocks.jpg\")\n",
    "gray = cv2.cvtColor(image, cv2.COLOR_BGR2GRAY)\n",
    "\n",
    "# Step 1: Apply simple Binary Thresholding (Inverse Binary Thresholding), since the background is white we use cv2.THRESH_BINARY_INV\n",
    "_, binary = cv2.threshold(gray, 230, 255, cv2.THRESH_BINARY_INV)\n",
    "\n",
    "# Step 2: Apply Canny Edge Detection\n",
    "edges = cv2.Canny(binary, 100, 200)\n",
    "\n",
    "# Step 3: Find contours\n",
    "contours, _ = cv2.findContours(edges, cv2.RETR_EXTERNAL, cv2.CHAIN_APPROX_SIMPLE)\n",
    "\n",
    "# Step 4: Calculate minimum area bounding rectangle\n",
    "output = image.copy()\n",
    "for contour in contours:\n",
    "    # Compute minimum area bounding rectangle\n",
    "    rect = cv2.minAreaRect(contour)\n",
    "    box = cv2.boxPoints(rect)\n",
    "    box = np.int0(box)\n",
    "\n",
    "    # Draw rectangle\n",
    "    cv2.drawContours(output, [box], 0, (255, 0, 0), 1)\n",
    "\n",
    "    # Get center and angle from rotated rectangle\n",
    "    center = (int(rect[0][0]), int(rect[0][1]))\n",
    "    angle = rect[2]\n",
    "\n",
    "    # Draw orientation line\n",
    "    length = 50\n",
    "    angle_rad = np.deg2rad(angle)\n",
    "    end_x = int(center[0] + length * np.cos(angle_rad))\n",
    "    end_y = int(center[1] + length * np.sin(angle_rad))\n",
    "    cv2.line(output, center, (end_x, end_y), (0, 0, 255), 1)\n",
    "\n",
    "    # Draw angle text near the line\n",
    "    text_position = (end_x - 20, end_y - 10)\n",
    "    cv2.putText(output, f\"{int(angle)}deg\", text_position, cv2.FONT_HERSHEY_SIMPLEX, \n",
    "                0.3, (0, 0, 0), 1, cv2.LINE_AA)\n",
    "\n",
    "# Show results using Matplotlib\n",
    "plt.figure(figsize=(8, 6))\n",
    "\n",
    "plt.imshow(output[:,:,::-1])\n",
    "plt.axis(\"off\")\n",
    "plt.title(\"Object Orientation using Min Area Rectangle\")\n",
    "\n",
    "plt.show()\n"
   ]
  },
  {
   "cell_type": "code",
   "execution_count": null,
   "metadata": {},
   "outputs": [],
   "source": [
    "# Load and convert the image to grayscale\n",
    "image = cv2.imread(\"blocks.jpg\")\n",
    "gray = cv2.cvtColor(image, cv2.COLOR_BGR2GRAY)\n",
    "\n",
    "# Step 1: Apply Binary Thresholding (Inverse)\n",
    "_, binary = cv2.threshold(gray, 230, 255, cv2.THRESH_BINARY_INV)\n",
    "\n",
    "# Step 2: Apply Canny Edge Detection\n",
    "edges = cv2.Canny(binary, 100, 200)\n",
    "\n",
    "# Step 3: Find contours\n",
    "contours, _ = cv2.findContours(edges, cv2.RETR_EXTERNAL, cv2.CHAIN_APPROX_SIMPLE)\n",
    "\n",
    "# Step 4: Fit ellipse and compute orientation\n",
    "output = image.copy()\n",
    "for contour in contours:\n",
    "    if len(contour) >= 5:  # Only fit ellipse if contour has at least 5 points\n",
    "        ellipse = cv2.fitEllipse(contour)\n",
    "        cv2.ellipse(output, ellipse, (255, 0, 0), 1)  # Draw ellipse (blue)\n",
    "\n",
    "        # Get center, axes, and angle\n",
    "        center = (int(ellipse[0][0]), int(ellipse[0][1]))\n",
    "        axes = (int(ellipse[1][0] / 2), int(ellipse[1][1] / 2))  # Semi-major and semi-minor axes\n",
    "        angle = ellipse[2]  # Angle of the major axis\n",
    "\n",
    "        # Draw orientation line (Major Axis)\n",
    "        length = 50\n",
    "        angle_rad = np.deg2rad(angle)\n",
    "        end_x = int(center[0] + length * np.cos(angle_rad))\n",
    "        end_y = int(center[1] + length * np.sin(angle_rad))\n",
    "        cv2.line(output, center, (end_x, end_y), (0, 0, 255), 1)  # Red orientation line\n",
    "\n",
    "        # Draw angle text near the line\n",
    "        text_position = (end_x + 10, end_y - 10)\n",
    "        cv2.putText(output, f\"{int(angle)}deg\", text_position, cv2.FONT_HERSHEY_SIMPLEX, \n",
    "                    0.3, (0, 0, 0), 1, cv2.LINE_AA)\n",
    "\n",
    "# Show results using Matplotlib\n",
    "plt.figure(figsize=(8, 6))\n",
    "plt.imshow(output[:, :, ::-1])  # Convert BGR to RGB for Matplotlib\n",
    "plt.axis(\"off\")\n",
    "plt.title(\"Object Orientation using Ellipse Fitting\")\n",
    "plt.show()\n"
   ]
  }
 ],
 "metadata": {
  "kernelspec": {
   "display_name": "BelajarOpenCV",
   "language": "python",
   "name": "python3"
  },
  "language_info": {
   "codemirror_mode": {
    "name": "ipython",
    "version": 3
   },
   "file_extension": ".py",
   "mimetype": "text/x-python",
   "name": "python",
   "nbconvert_exporter": "python",
   "pygments_lexer": "ipython3",
   "version": "3.8.20"
  }
 },
 "nbformat": 4,
 "nbformat_minor": 2
}
