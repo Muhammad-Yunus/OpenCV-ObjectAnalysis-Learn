{
 "cells": [
  {
   "cell_type": "markdown",
   "metadata": {},
   "source": [
    "## 1.3 Compute 'regular shape' object orientation using Contour Analysis"
   ]
  },
  {
   "cell_type": "code",
   "execution_count": null,
   "metadata": {},
   "outputs": [],
   "source": [
    "import cv2\n",
    "import numpy as np\n",
    "import matplotlib.pyplot as plt\n",
    "\n",
    "print(\"OpenCV version: \" + cv2.__version__)"
   ]
  },
  {
   "cell_type": "markdown",
   "metadata": {},
   "source": [
    "### Using Contour Minimum Rectangle Area (`cv2.minAreaRect(contour)`)\n",
    "- The function `cv2.minAreaRect(contour)` **finds the minimum-area bounding rectangle** that **encloses a given contour**. \n",
    "- This rectangle may be **rotated** to fit the shape more efficiently.\n",
    "    ```python\n",
    "    rect = cv2.minAreaRect(contour)\n",
    "    ```\n",
    "- where `rect` is center `(x,y)`, `(width, height)`, `angle` of rotation<br>\n",
    "    <img src=\"resource/boundingrect.png\" style=\"width:200px; margin-top:10px;\"></img><br><br>"
   ]
  },
  {
   "cell_type": "code",
   "execution_count": null,
   "metadata": {},
   "outputs": [],
   "source": [
    "# Load and convert the image to grayscale\n",
    "image = cv2.imread(\"rotated_blocks.jpg\")\n",
    "gray = cv2.cvtColor(image, cv2.COLOR_BGR2GRAY)\n",
    "\n",
    "# Step 1: Apply simple Binary Thresholding (Inverse Binary Thresholding)\n",
    "_, binary = cv2.threshold(gray, 70, 255, cv2.THRESH_BINARY)\n",
    "\n",
    "# Step 2: Apply Canny Edge Detection\n",
    "edges = cv2.Canny(binary, 50, 200)\n",
    "\n",
    "# Display the images binary and edges\n",
    "plt.figure(figsize=(20,10))\n",
    "\n",
    "plt.subplot(1, 2, 1)\n",
    "plt.imshow(binary, cmap=\"gray\")\n",
    "plt.title(\"Binary Image\")\n",
    "plt.axis(\"off\")\n",
    "\n",
    "plt.subplot(1, 2, 2)\n",
    "plt.imshow(edges, cmap=\"gray\")\n",
    "plt.title(\"Canny Edge Detection\")\n",
    "plt.axis(\"off\")\n",
    "\n",
    "plt.show()"
   ]
  },
  {
   "cell_type": "markdown",
   "metadata": {},
   "source": [
    "- Simple tips choose correct threshold value in `cv2.threshold()`\n",
    "    - if background is white / brigther than object, use **bigger threshold** and use `cv2.THRESH_BINARY_INV`\n",
    "    - if background is black / darker than object, use **smaller threshold**  and use `cv2.THRESH_BINARY`"
   ]
  },
  {
   "cell_type": "code",
   "execution_count": null,
   "metadata": {},
   "outputs": [],
   "source": [
    "# Step 3: Find contours\n",
    "contours, _ = cv2.findContours(binary, cv2.RETR_EXTERNAL, cv2.CHAIN_APPROX_SIMPLE)\n",
    "\n",
    "# Step 4: Calculate minimum area bounding rectangle\n",
    "output = image.copy()\n",
    "for contour in contours:\n",
    "    # Compute minimum area bounding rectangle\n",
    "    rect = cv2.minAreaRect(contour)\n",
    "    box = cv2.boxPoints(rect) # Get the 4 corner points of the rectangle\n",
    "    box = np.intp(box) # Convert the coordinates to integers\n",
    "\n",
    "    # avoid small rectangles\n",
    "    if(rect[1][0] < 20 or rect[1][1] < 20):\n",
    "        continue\n",
    "\n",
    "    # Draw the rectangle\n",
    "    cv2.drawContours(output, [box], 0, (0, 0, 255), 1)\n",
    "\n",
    "    # Get center and angle from rotated rectangle\n",
    "    center = (int(rect[0][0]), int(rect[0][1]))\n",
    "\n",
    "\n",
    "    # heading of the angle is always the long side of the rectangle\n",
    "    angle = (int(rect[2]) - 180) % -180  # Adjust angle to be referenced to the horizontal line\n",
    "    if rect[1][0] < rect[1][1]:  # If the width is smaller than the height, add -90 degrees\n",
    "        angle = int(rect[2]) - 90\n",
    "    angle = abs(angle)\n",
    "\n",
    "\n",
    "    # Define the length of the orientation lines\n",
    "    length = 50\n",
    "\n",
    "    # Black line for original orientation, always referenced as horizontal line\n",
    "    cv2.line(output, center, (center[0] + length, center[1]), (0, 0, 0), 2)  \n",
    "\n",
    "\n",
    "    # Compute the end point for the **rotation axis** (red line)\n",
    "    angle_rad = np.deg2rad(angle)\n",
    "    end_x = int(center[0] + length * np.cos(angle_rad)) # x = x0 + r * cos(angle)\n",
    "    end_y = int(center[1] - length * np.sin(angle_rad)) # y = y0 - r * sin(angle)\n",
    "    cv2.line(output, center, (end_x, end_y), (0, 0, 255), 2)  # Red line for rotation axis\n",
    "\n",
    "\n",
    "    # Draw angle text near the red line\n",
    "    text_position = (center[0] - 7, center[1] - 7)\n",
    "    cv2.putText(output, f\"{int(angle)}\", text_position, cv2.FONT_HERSHEY_SIMPLEX, \n",
    "                0.6, (0, 0, 0), 1, cv2.LINE_AA)\n",
    "\n",
    "                    \n",
    "# Show results using Matplotlib\n",
    "plt.figure(figsize=(20, 6))\n",
    "plt.imshow(output[:, :, ::-1])  # Convert BGR to RGB\n",
    "plt.axis(\"off\")\n",
    "plt.title(\"Object Orientation with Reference Line\")\n",
    "plt.show()"
   ]
  },
  {
   "cell_type": "markdown",
   "metadata": {},
   "source": [
    "- Find object orientation using Contour Analysis `cv2.minAreaRect()` has a good result when,\n",
    "    - the object is blob like object (resular shape & simple).\n",
    "    - background is solid color (otherwise the detection will be noised by background object)."
   ]
  },
  {
   "cell_type": "markdown",
   "metadata": {},
   "source": [
    "- When object shape is complex, has concave, irregular shape, branch like,\n",
    "    - then above method might not perform well.\n",
    "    <img src=\"resource/output.png\" width=\"75%\">"
   ]
  },
  {
   "cell_type": "markdown",
   "metadata": {},
   "source": [
    "- ✅ Pros of `cv2.minAreaRect`\n",
    "    - ✔ Fast and efficient: It works by fitting a rectangle around the object, making it computationally cheaper.\n",
    "    - ✔ Less sensitive to noise: minAreaRect is more stable against outliers.\n",
    "    - ✔ Works well for rectangular and box-like objects: It naturally aligns with the object's edges.\n",
    "\n",
    "- ❌ Cons of `cv2.minAreaRect`\n",
    "    - ✖ Less accurate for non-rectangular objects: \n",
    "        - If the object is not box-shaped (e.g., branch or skeleton like), the orientation may not reflect its true major axis.\n",
    "    - ✖ Rectangle-based assumption: The computed orientation is tied to the bounding box rather than the object's actual shape.\n",
    "    - ✖ Angle ambiguity: The returned angle is sometimes inconsistent (e.g., flipping between 0° and 90° for similar shapes)."
   ]
  }
 ],
 "metadata": {
  "kernelspec": {
   "display_name": "BelajarOpenCV",
   "language": "python",
   "name": "python3"
  },
  "language_info": {
   "codemirror_mode": {
    "name": "ipython",
    "version": 3
   },
   "file_extension": ".py",
   "mimetype": "text/x-python",
   "name": "python",
   "nbconvert_exporter": "python",
   "pygments_lexer": "ipython3",
   "version": "3.8.20"
  }
 },
 "nbformat": 4,
 "nbformat_minor": 2
}
