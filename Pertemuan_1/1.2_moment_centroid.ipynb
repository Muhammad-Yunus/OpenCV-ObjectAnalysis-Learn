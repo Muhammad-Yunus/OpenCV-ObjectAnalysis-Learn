{
 "cells": [
  {
   "cell_type": "markdown",
   "metadata": {},
   "source": [
    "## 1.2 Find Centroid using Moment\n",
    "- `cv2.moments()` computes **image moments**, which are statistical properties used to describe the shape of an object in an image. \n",
    "- These moments help in determining **centroids, area, orientation, and shape descriptors**.<br>\n",
    "    ```python\n",
    "    M = cv2.moments(image, binaryImage=False)\n",
    "- `binaryImage` (Optional, Default = `False`) : \n",
    "    - If `True`, treats input as a binary image (`255` for foreground, `0` for background).\n",
    "    - If `False`, calculates moments based on pixel intensities (useful for grayscale images).\n",
    "- The function returns a dictionary M containing image moments.\n",
    "- The dictionary contains spatial `moments`, `central moments`, and `normalized central moments`"
   ]
  },
  {
   "cell_type": "markdown",
   "metadata": {},
   "source": [
    "- <font color='orange'>Spatial Moments (Raw Moments)</font>  \n",
    "    - Used for **basic shape properties**.\n",
    "        | Key      | Formula      | Description |\n",
    "        |----------|-------------|-------------|\n",
    "        | `m00`    | <img src=\"https://latex.codecogs.com/png.latex?m_{00}%20=%20\\sum_x\\sum_y%20I(x,y)\" style=\"background:white; padding:10px\"> | <ul><li> **Area of the object** (sum of pixel intensities in a binary image). </li><li>It is calculated by summing up all pixel intensities I(x, y) in an image.</li></ul> |\n",
    "        | `m10`    | <img src=\"https://latex.codecogs.com/png.latex?m_{10}%20=%20\\sum_x\\sum_y%20x%20I(x,y)\" style=\"background:white; padding:10px\"> | <ul><li> `m10` is the sum of X-coordinates weighted by pixel intensities. </li><li>It represents the distribution of mass along the `X-axis`. </li><li>Used to compute the **centroid X-coordinate** (`cx = m10/m00`). </li></ul>|\n",
    "        | `m01`    | <img src=\"https://latex.codecogs.com/png.latex?m_{01}%20=%20\\sum_x\\sum_y%20y%20I(x,y)\" style=\"background:white; padding:10px\"> | <ul><li>`m01` is the sum of Y-coordinates weighted by pixel intensities. </li><li>It represents the distribution of mass along the `Y-axis`. </li><li>Used to compute the **centroid Y-coordinate** (`cy = m01/m00`). </li></ul>|\n",
    "        \n",
    "        <br><br>\n",
    "        <img src='resource/moment-illustration.png' width=\"80%\">"
   ]
  },
  {
   "cell_type": "code",
   "execution_count": null,
   "metadata": {},
   "outputs": [],
   "source": [
    "import cv2\n",
    "import numpy as np\n",
    "import matplotlib.pyplot as plt\n",
    "\n",
    "print(\"OpenCV version: \" + cv2.__version__)"
   ]
  },
  {
   "cell_type": "markdown",
   "metadata": {},
   "source": [
    "#### EXAMPLE 1 - Find Simple Centroid using Moment & Image Thresholding"
   ]
  },
  {
   "cell_type": "code",
   "execution_count": null,
   "metadata": {},
   "outputs": [],
   "source": [
    "# Load the image\n",
    "img = cv2.imread(\"single_block_2.jpg\")  # Replace with your image file\n",
    "gray = cv2.cvtColor(img, cv2.COLOR_BGR2GRAY)\n",
    "\n",
    "# Step 1: Apply simple Binary Thresholding (Inverse Binary Thresholding), since the background is white we use cv2.THRESH_BINARY_INV\n",
    "_, thresh = cv2.threshold(gray, 200, 255, cv2.THRESH_BINARY_INV)\n",
    "\n",
    "# Show result binary image and original image\n",
    "plt.figure(figsize=(20,10))\n",
    "\n",
    "plt.subplot(1, 2, 1)\n",
    "plt.imshow(img[:,:,::-1])\n",
    "plt.title(\"Original Image\")\n",
    "plt.axis(\"off\")\n",
    "\n",
    "plt.subplot(1, 2, 2)\n",
    "plt.imshow(thresh, cmap=\"gray\")\n",
    "plt.title(\"Binary Image\")\n",
    "plt.axis(\"off\")\n",
    "\n",
    "plt.show()"
   ]
  },
  {
   "cell_type": "code",
   "execution_count": null,
   "metadata": {},
   "outputs": [],
   "source": [
    "# Compute moments\n",
    "M = cv2.moments(thresh)\n",
    "\n",
    "# Calculate centroid\n",
    "if M[\"m00\"] != 0:\n",
    "    cx = int(M[\"m10\"] / M[\"m00\"])  # x-coordinate of centroid\n",
    "    cy = int(M[\"m01\"] / M[\"m00\"])  # y-coordinate of centroid\n",
    "    # Draw the centroid on the image\n",
    "    cv2.circle(img, (cx, cy), 10, (0, 0, 255), -1)\n",
    "    print(f\"Centroid: ({cx}, {cy})\")\n",
    "else:\n",
    "    print(\"No centroid found!\")\n",
    "\n",
    "# Show result image with centroid\n",
    "plt.title(\"Centroid\")\n",
    "plt.imshow(img[:,:,::-1])\n",
    "plt.axis(\"off\")\n",
    "plt.show()"
   ]
  },
  {
   "cell_type": "markdown",
   "metadata": {},
   "source": [
    "#### EXAMPLE 2 - Find Complex Centroid using Moment, Contour Analysis & Canny Edge Detection"
   ]
  },
  {
   "cell_type": "code",
   "execution_count": null,
   "metadata": {},
   "outputs": [],
   "source": [
    "# Load and convert the image to grayscale\n",
    "image = cv2.imread(\"blocks.jpg\")\n",
    "gray = cv2.cvtColor(image, cv2.COLOR_BGR2GRAY)\n",
    "\n",
    "# Step 1: Apply simple Binary Thresholding (Inverse Binary Thresholding), since the background is white we use cv2.THRESH_BINARY_INV\n",
    "_, binary = cv2.threshold(gray, 230, 255, cv2.THRESH_BINARY_INV)\n",
    "\n",
    "# Step 2: Apply Canny Edge Detection\n",
    "edges = cv2.Canny(binary, 100, 200)\n",
    "\n",
    "\n",
    "# Display the images binary and edges\n",
    "plt.figure(figsize=(20,10))\n",
    "\n",
    "plt.subplot(1, 2, 1)\n",
    "plt.imshow(binary, cmap=\"gray\")\n",
    "plt.title(\"Binary Image\")\n",
    "plt.axis(\"off\")\n",
    "\n",
    "plt.subplot(1, 2, 2)\n",
    "plt.imshow(edges, cmap=\"gray\")\n",
    "plt.title(\"Canny Edge Detection\")\n",
    "plt.axis(\"off\")\n",
    "\n",
    "plt.show()"
   ]
  },
  {
   "cell_type": "code",
   "execution_count": null,
   "metadata": {},
   "outputs": [],
   "source": [
    "# Step 3: Find contours\n",
    "contours, _ = cv2.findContours(edges, cv2.RETR_EXTERNAL, cv2.CHAIN_APPROX_SIMPLE)\n",
    "\n",
    "# Step 4: Calculate centroids & Draw contours\n",
    "output = image.copy()\n",
    "for contour in contours:\n",
    "    M = cv2.moments(contour)\n",
    "    \n",
    "    if M[\"m00\"] != 0:  # Avoid division by zero\n",
    "        cx = int(M[\"m10\"] / M[\"m00\"])\n",
    "        cy = int(M[\"m01\"] / M[\"m00\"])\n",
    "        \n",
    "        # Draw centroid\n",
    "        cv2.circle(output, (cx, cy), 3, (0, 0, 0), -1)\n",
    "\n",
    "# Step 5: Display the number of objects detected\n",
    "num_objects = len(contours) # Number of objects detected based on the number of contours\n",
    "cv2.putText(output, f\"Objects: {num_objects}\", (10, 30), cv2.FONT_HERSHEY_SIMPLEX, \n",
    "            0.6, (255, 0, 0), 1)\n",
    "\n",
    "# Display detected objects\n",
    "plt.figure(figsize=(15,5))\n",
    "\n",
    "plt.imshow(output[:,:,::-1])\n",
    "plt.title(f\"Detected Objects: {num_objects}\")\n",
    "plt.axis(\"off\")\n",
    "\n",
    "plt.show()\n"
   ]
  }
 ],
 "metadata": {
  "kernelspec": {
   "display_name": "BelajarOpenCV",
   "language": "python",
   "name": "python3"
  },
  "language_info": {
   "codemirror_mode": {
    "name": "ipython",
    "version": 3
   },
   "file_extension": ".py",
   "mimetype": "text/x-python",
   "name": "python",
   "nbconvert_exporter": "python",
   "pygments_lexer": "ipython3",
   "version": "3.8.20"
  }
 },
 "nbformat": 4,
 "nbformat_minor": 2
}
